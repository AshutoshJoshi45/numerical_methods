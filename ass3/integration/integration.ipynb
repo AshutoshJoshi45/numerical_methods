{
 "cells": [
  {
   "cell_type": "code",
   "execution_count": 1,
   "id": "52a66bdf",
   "metadata": {},
   "outputs": [],
   "source": [
    "import numpy as np\n",
    "from scipy import integrate\n",
    "import matplotlib.pyplot as plt"
   ]
  },
  {
   "cell_type": "code",
   "execution_count": 4,
   "id": "93169989",
   "metadata": {},
   "outputs": [
    {
     "name": "stdout",
     "output_type": "stream",
     "text": [
      "Romberg integration of <function vectorize1.<locals>.vfunc at 0x7f734431c400> from [0, 1]\n",
      "\n",
      " Steps  StepSize   Results\n",
      "     1  1.000000  1.859141 \n",
      "     2  0.500000  1.753931  1.718861 \n",
      "     4  0.250000  1.727222  1.718319  1.718283 \n",
      "     8  0.125000  1.720519  1.718284  1.718282  1.718282 \n",
      "    16  0.062500  1.718841  1.718282  1.718282  1.718282  1.718282 \n",
      "\n",
      "The final result is 1.7182818284590782 after 17 function evaluations.\n",
      "Using Trapezoidal Rule= 1.4608192444085148\n",
      "Using Simpson's Rule= 1.4597451505369412\n",
      "Using Romberg Integration= 1.7182818284590782\n"
     ]
    }
   ],
   "source": [
    "def f(x):\n",
    "    return np.exp(x)\n",
    "x=np.arange(0,1,0.1)\n",
    "y=f(x)\n",
    "trap_res=integrate.trapezoid(y,dx=0.1)\n",
    "simp_res=integrate.simpson(y,dx=0.1)\n",
    "romb_res=integrate.romberg(f,0,1,show=True)\n",
    "print(\"Using Trapezoidal Rule=\",trap_res)\n",
    "print(\"Using Simpson's Rule=\",simp_res)\n",
    "print(\"Using Romberg Integration=\",romb_res)"
   ]
  },
  {
   "cell_type": "code",
   "execution_count": 54,
   "id": "d39652cd",
   "metadata": {},
   "outputs": [
    {
     "name": "stdout",
     "output_type": "stream",
     "text": [
      "[1.   1.25 1.5  1.75 2.  ]\n",
      "f(x)=x ln(x)\n",
      "Using Trapezoidal Rule= 0.6399004776879859\n",
      "Using Simpson's Rule= 0.6363098297969493\n"
     ]
    }
   ],
   "source": [
    "def f(x):\n",
    "    return np.log(x)*x\n",
    "n=4\n",
    "xi=1\n",
    "xf=2\n",
    "dx=(xf-xi)/n\n",
    "x=np.arange(xi,xf+dx,dx)\n",
    "print(x)\n",
    "y=f(x)\n",
    "trap_res=integrate.trapezoid(y,dx=dx)\n",
    "simp_res=integrate.simpson(y,dx=dx)\n",
    "print(\"f(x)=x ln(x)\")\n",
    "print(\"Using Trapezoidal Rule=\",trap_res)\n",
    "print(\"Using Simpson's Rule=\",simp_res)"
   ]
  },
  {
   "cell_type": "code",
   "execution_count": 70,
   "id": "ac1ff99f",
   "metadata": {},
   "outputs": [
    {
     "name": "stdout",
     "output_type": "stream",
     "text": [
      "[0.         0.33333333 0.66666667 1.         1.33333333 1.66666667\n",
      " 2.        ]\n",
      "f(x)=x ln(x)\n",
      "Using Trapezoidal Rule= 0.8115725777490483\n",
      "Using Simpson's Rule= 0.8109327491680433\n"
     ]
    }
   ],
   "source": [
    "def f(x):\n",
    "    return 2/(x+4)\n",
    "n=6\n",
    "xi=0\n",
    "xf=2\n",
    "dx=(xf-xi)/n\n",
    "x=np.arange(xi,xf+dx,dx)[:-1] #The code was giving an error due to machine precision 1/3=0.333...334\n",
    "print(x)\n",
    "y=f(x)\n",
    "trap_res=integrate.trapezoid(y,dx=dx)\n",
    "simp_res=integrate.simpson(y,dx=dx)\n",
    "print(\"f(x)=x ln(x)\")\n",
    "print(\"Using Trapezoidal Rule=\",trap_res)\n",
    "print(\"Using Simpson's Rule=\",simp_res)"
   ]
  },
  {
   "cell_type": "code",
   "execution_count": 71,
   "id": "e81d2c94",
   "metadata": {},
   "outputs": [
    {
     "name": "stdout",
     "output_type": "stream",
     "text": [
      "[0.         0.14726216 0.29452431 0.44178647 0.58904862 0.73631078\n",
      " 0.88357293 1.03083509 1.17809725]\n",
      "f(x)=x ln(x)\n",
      "Using Trapezoidal Rule= 0.9709263066791303\n",
      "Using Simpson's Rule= 0.9610553984955355\n"
     ]
    }
   ],
   "source": [
    "def f(x):\n",
    "    return np.tan(x)\n",
    "n=8\n",
    "xi=0\n",
    "xf=np.pi*3/8\n",
    "dx=(xf-xi)/n\n",
    "x=np.arange(xi,xf+dx,dx)\n",
    "print(x)\n",
    "y=f(x)\n",
    "trap_res=integrate.trapezoid(y,dx=dx)\n",
    "simp_res=integrate.simpson(y,dx=dx)\n",
    "print(\"f(x)=x ln(x)\")\n",
    "print(\"Using Trapezoidal Rule=\",trap_res)\n",
    "print(\"Using Simpson's Rule=\",simp_res)"
   ]
  },
  {
   "cell_type": "code",
   "execution_count": 17,
   "id": "2ab365ef",
   "metadata": {},
   "outputs": [],
   "source": [
    "#Romberg Integration\n",
    "def r33(f,a,b):\n",
    "    P=b-a #Period of Integration\n",
    "    r11=(f(a)+f(b))*P/2\n",
    "    r21=(f(a)+f(b)+2*f((a+b)/2))*P/4\n",
    "    r31=(f(a)+f(b)+(f(a+(b-a)/4)+f(a+2*(b-a)/4)+f(a+3*(b-a)/4))*2)*P/8\n",
    "    r32=r31+(r31-r21)/3\n",
    "    r22=r21+(r21-r11)/3\n",
    "    r33=r32+(r32-r22)/15\n",
    "    return r33"
   ]
  },
  {
   "cell_type": "code",
   "execution_count": 27,
   "id": "a5de8130",
   "metadata": {},
   "outputs": [
    {
     "name": "stdout",
     "output_type": "stream",
     "text": [
      "Using My code= 0.19225933731444386\n",
      "Using scipy.integrate:\n",
      "Romberg integration of <function vectorize1.<locals>.vfunc at 0x7f7343776ca0> from [1, 1.5]\n",
      "\n",
      " Steps  StepSize   Results\n",
      "     1  0.500000  0.228074 \n",
      "     2  0.250000  0.201203  0.192245 \n",
      "     4  0.125000  0.194494  0.192258  0.192259 \n",
      "     8  0.062500  0.192818  0.192259  0.192259  0.192259 \n",
      "    16  0.031250  0.192399  0.192259  0.192259  0.192259  0.192259 \n",
      "\n",
      "The final result is 0.19225935773277802 after 17 function evaluations.\n"
     ]
    },
    {
     "data": {
      "text/plain": [
       "0.19225935773277802"
      ]
     },
     "execution_count": 27,
     "metadata": {},
     "output_type": "execute_result"
    }
   ],
   "source": [
    "def f(x):\n",
    "    return x**2 * np.log(x)\n",
    "print(\"Using My code=\",r33(f,1,1.5))\n",
    "print(\"Using scipy.integrate:\")\n",
    "integrate.romberg(f,1,1.5,show=True)"
   ]
  },
  {
   "cell_type": "code",
   "execution_count": 29,
   "id": "8fd12fb4",
   "metadata": {},
   "outputs": [
    {
     "name": "stdout",
     "output_type": "stream",
     "text": [
      "Using My code= 0.1606105286979897\n",
      "Using scipy.integrate:\n",
      "Romberg integration of <function vectorize1.<locals>.vfunc at 0x7f73437758a0> from [0, 1]\n",
      "\n",
      " Steps  StepSize   Results\n",
      "     1  1.000000  0.183940 \n",
      "     2  0.500000  0.167786  0.162402 \n",
      "     4  0.250000  0.162488  0.160722  0.160611 \n",
      "     8  0.125000  0.161080  0.160610  0.160603  0.160603 \n",
      "    16  0.062500  0.160722  0.160603  0.160603  0.160603  0.160603 \n",
      "\n",
      "The final result is 0.16060279414376905 after 17 function evaluations.\n"
     ]
    },
    {
     "data": {
      "text/plain": [
       "0.16060279414376905"
      ]
     },
     "execution_count": 29,
     "metadata": {},
     "output_type": "execute_result"
    }
   ],
   "source": [
    "def f(x):\n",
    "    return x**2 * np.exp(-x)\n",
    "print(\"Using My code=\",r33(f,0,1))\n",
    "print(\"Using scipy.integrate:\")\n",
    "integrate.romberg(f,0,1,show=True)"
   ]
  },
  {
   "cell_type": "code",
   "execution_count": 30,
   "id": "7ee8b0bc",
   "metadata": {},
   "outputs": [
    {
     "name": "stdout",
     "output_type": "stream",
     "text": [
      "Using My code= 0.6426969730669724\n",
      "Using scipy.integrate:\n",
      "Romberg integration of <function vectorize1.<locals>.vfunc at 0x7f7343777ce0> from [0, 0.7853981633974483]\n",
      "\n",
      " Steps  StepSize   Results\n",
      "     1  0.785398  0.589049 \n",
      "     2  0.392699  0.629714  0.643269 \n",
      "     4  0.196350  0.639478  0.642733  0.642697 \n",
      "     8  0.098175  0.641895  0.642701  0.642699  0.642699 \n",
      "    16  0.049087  0.642498  0.642699  0.642699  0.642699  0.642699 \n",
      "\n",
      "The final result is 0.6426990816982282 after 17 function evaluations.\n"
     ]
    },
    {
     "data": {
      "text/plain": [
       "0.6426990816982282"
      ]
     },
     "execution_count": 30,
     "metadata": {},
     "output_type": "execute_result"
    }
   ],
   "source": [
    "def f(x):\n",
    "    return np.cos(x)**2\n",
    "print(\"Using My code=\",r33(f,0,np.pi/4))\n",
    "print(\"Using scipy.integrate:\")\n",
    "integrate.romberg(f,0,np.pi/4,show=True)"
   ]
  },
  {
   "cell_type": "code",
   "execution_count": null,
   "id": "bf2a1d1b",
   "metadata": {},
   "outputs": [],
   "source": []
  }
 ],
 "metadata": {
  "kernelspec": {
   "display_name": "Python 3 (ipykernel)",
   "language": "python",
   "name": "python3"
  },
  "language_info": {
   "codemirror_mode": {
    "name": "ipython",
    "version": 3
   },
   "file_extension": ".py",
   "mimetype": "text/x-python",
   "name": "python",
   "nbconvert_exporter": "python",
   "pygments_lexer": "ipython3",
   "version": "3.11.4"
  }
 },
 "nbformat": 4,
 "nbformat_minor": 5
}
