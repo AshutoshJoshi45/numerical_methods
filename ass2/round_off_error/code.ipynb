{
 "cells": [
  {
   "cell_type": "code",
   "execution_count": 5,
   "id": "91f4f327",
   "metadata": {},
   "outputs": [
    {
     "name": "stdout",
     "output_type": "stream",
     "text": [
      "The machine precision of  <class 'numpy.float128'> is  1.084202172485504434e-19\n",
      "The machine precision of  <class 'numpy.float16'> is  0.000977\n",
      "The machine precision of  <class 'numpy.float32'> is  1.1920929e-07\n",
      "The machine precision of  <class 'numpy.float64'> is  2.220446049250313e-16\n",
      "The machine precision of  <class 'numpy.float128'> is  1.084202172485504434e-19\n"
     ]
    },
    {
     "data": {
      "text/plain": [
       "'\\nAccording to https://numpy.org/doc/stable/reference/constants.html numpy does follow IEEE 754 standard\\n'"
      ]
     },
     "execution_count": 5,
     "metadata": {},
     "output_type": "execute_result"
    }
   ],
   "source": [
    "#Que 1\n",
    "import numpy as np\n",
    "def machine_precision(data_type):\n",
    "    return np.finfo(data_type).eps\n",
    "data_list=[np.longdouble,np.float16,np.float32,np.float64,np.float128]\n",
    "for i in data_list:\n",
    "    print(\"The machine precision of \",i,\"is \", machine_precision(i))\n",
    "\"\"\"\n",
    "According to https://numpy.org/doc/stable/reference/constants.html numpy does follow IEEE 754 standard\n",
    "\"\"\""
   ]
  },
  {
   "cell_type": "code",
   "execution_count": 4,
   "id": "a9e80d7e",
   "metadata": {},
   "outputs": [
    {
     "name": "stdout",
     "output_type": "stream",
     "text": [
      "The machine precsion of float data type in python is 2.220446049250313e-16\n"
     ]
    }
   ],
   "source": [
    "#Que 2\n",
    "print(\"The machine precsion of float data type in python is\",machine_precision(float))"
   ]
  },
  {
   "cell_type": "code",
   "execution_count": null,
   "id": "72873421",
   "metadata": {},
   "outputs": [],
   "source": []
  }
 ],
 "metadata": {
  "kernelspec": {
   "display_name": "Python 3 (ipykernel)",
   "language": "python",
   "name": "python3"
  },
  "language_info": {
   "codemirror_mode": {
    "name": "ipython",
    "version": 3
   },
   "file_extension": ".py",
   "mimetype": "text/x-python",
   "name": "python",
   "nbconvert_exporter": "python",
   "pygments_lexer": "ipython3",
   "version": "3.11.4"
  }
 },
 "nbformat": 4,
 "nbformat_minor": 5
}
